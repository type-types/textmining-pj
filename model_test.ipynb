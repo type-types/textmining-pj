{
 "cells": [
  {
   "cell_type": "code",
   "execution_count": 1,
   "id": "a4510e64",
   "metadata": {},
   "outputs": [
    {
     "name": "stdout",
     "output_type": "stream",
     "text": [
      "WARNING:tensorflow:From c:\\Users\\omslu\\anaconda3\\Lib\\site-packages\\tf_keras\\src\\losses.py:2976: The name tf.losses.sparse_softmax_cross_entropy is deprecated. Please use tf.compat.v1.losses.sparse_softmax_cross_entropy instead.\n",
      "\n"
     ]
    }
   ],
   "source": [
    "from datasets import Dataset\n",
    "from sentence_transformers import SentenceTransformer, losses, InputExample, losses\n",
    "from torch.utils.data import DataLoader\n",
    "from datasets import Dataset\n",
    "import pandas as pd\n",
    "import torch\n",
    "import torch.nn as nn\n",
    "import numpy as np\n",
    "import random\n",
    "import faiss\n",
    "import pickle"
   ]
  },
  {
   "cell_type": "code",
   "execution_count": 2,
   "id": "50fc3126",
   "metadata": {},
   "outputs": [],
   "source": [
    "df = pd.read_excel(\"행정안전부_민원안내정보_20250327.xlsx\")[:2800]\n",
    "query_df = pd.read_excel(\"0_2799_질의응답데이터셋.xlsx\")"
   ]
  },
  {
   "cell_type": "code",
   "execution_count": 3,
   "id": "9f293e34",
   "metadata": {},
   "outputs": [
    {
     "name": "stdout",
     "output_type": "stream",
     "text": [
      "청크:\n",
      " '토지임야대장등본교부 다량신청'은 토지임야대장등본교부 민원에 대하여 여러 번지를 한번에 신청할 수 있는 민원입니다.\n",
      "\n",
      "메타데이터:\n",
      " [분류번호] SG4CADM-2015\n",
      "[사무명] 토지임야대장등본교부 다량신청\n",
      "[사무개요] 토지임야대장등본교부 민원에 대하여 여러 번지를 한번에 신청할 수 있는 민원입니다.\n",
      "[신청유형] 교부\n",
      "[신청자 자격] 누구나신청가능\n",
      "[수수료] nan\n",
      "[수수료내역] nan\n",
      "[소관부처] 국토교통부\n",
      "[담당부서] 공간정보제도과\n",
      "[접수방법] 인터넷\n",
      "[접수/처리] nan\n",
      "[근거법령] nan\n",
      "[신청서] nan\n",
      "[발급물 내용] nan\n",
      "[구비서류] nan\n"
     ]
    }
   ],
   "source": [
    "# 청크 생성\n",
    "documents = []\n",
    "metadatas = []\n",
    "for idx, row in df.iterrows():\n",
    "    # chunk = \"\\n\".join([f\"[{col}] {row[col]}\" for col in chunks_in])\n",
    "    chunk = f\"'{row['사무명']}'은 {row['사무개요']}\"\n",
    "    metadata = \"\\n\".join([f\"[{col}] {row[col]}\" for col in df.columns])\n",
    "    documents.append(chunk)\n",
    "    metadatas.append(metadata)\n",
    "print(\"청크:\\n\", documents[0])\n",
    "print(\"\\n메타데이터:\\n\", metadatas[0])"
   ]
  },
  {
   "cell_type": "code",
   "execution_count": 4,
   "id": "c0ee5f40",
   "metadata": {},
   "outputs": [
    {
     "name": "stdout",
     "output_type": "stream",
     "text": [
      "(5600, 3)\n"
     ]
    },
    {
     "data": {
      "text/html": [
       "<div>\n",
       "<style scoped>\n",
       "    .dataframe tbody tr th:only-of-type {\n",
       "        vertical-align: middle;\n",
       "    }\n",
       "\n",
       "    .dataframe tbody tr th {\n",
       "        vertical-align: top;\n",
       "    }\n",
       "\n",
       "    .dataframe thead th {\n",
       "        text-align: right;\n",
       "    }\n",
       "</style>\n",
       "<table border=\"1\" class=\"dataframe\">\n",
       "  <thead>\n",
       "    <tr style=\"text-align: right;\">\n",
       "      <th></th>\n",
       "      <th>사무명</th>\n",
       "      <th>질문</th>\n",
       "      <th>답변</th>\n",
       "    </tr>\n",
       "  </thead>\n",
       "  <tbody>\n",
       "    <tr>\n",
       "      <th>3</th>\n",
       "      <td>토지임야대장등본교부 다량신청</td>\n",
       "      <td>4. 토지임야대장등본을 다량으로 신청하려고 하는데, 인터넷으로도 신청이 가능한가요?...</td>\n",
       "      <td>토지임야대장등본을 다량으로 신청하시려면, 인터넷으로 신청이 가능합니다. 이 민원은 ...</td>\n",
       "    </tr>\n",
       "    <tr>\n",
       "      <th>4</th>\n",
       "      <td>토지임야대장등본교부 다량신청</td>\n",
       "      <td>5. 여러 필지의 토지임야대장등본을 한 번에 신청하려는데, 신청 수수료는 어떻게 되...</td>\n",
       "      <td>여러 필지의 토지임야대장등본을 한 번에 신청하시려는군요! 이 민원은 \"토지임야대장등...</td>\n",
       "    </tr>\n",
       "    <tr>\n",
       "      <th>8</th>\n",
       "      <td>공탁신청(공탁물지급청구 포함)</td>\n",
       "      <td>4. 제가 대출금을 연체하여 채권자가 공탁을 요구하고 있습니다. 제가 공탁금을 지급...</td>\n",
       "      <td>공탁금의 지급과 관련된 절차에 대해 설명드리겠습니다.\\n\\n먼저, 이 사무는 \"공탁...</td>\n",
       "    </tr>\n",
       "    <tr>\n",
       "      <th>9</th>\n",
       "      <td>공탁신청(공탁물지급청구 포함)</td>\n",
       "      <td>5. 공탁금을 지급받으려면 특정한 조건이나 절차가 있는지 알고 싶습니다. 만약 저에...</td>\n",
       "      <td>공탁금을 지급받으시려면 다음과 같은 절차와 서류가 필요합니다.\\n\\n먼저, 이 사무...</td>\n",
       "    </tr>\n",
       "    <tr>\n",
       "      <th>13</th>\n",
       "      <td>친양자입양취소신고</td>\n",
       "      <td>4. 친양자 입양을 취소할 때, 법원에서 어떤 기준으로 결정을 내리는지 궁금합니다....</td>\n",
       "      <td>친양자 입양을 취소하는 과정에 대해 궁금하신 점을 설명드리겠습니다.\\n\\n먼저, 이...</td>\n",
       "    </tr>\n",
       "  </tbody>\n",
       "</table>\n",
       "</div>"
      ],
      "text/plain": [
       "                 사무명                                                 질문  \\\n",
       "3    토지임야대장등본교부 다량신청  4. 토지임야대장등본을 다량으로 신청하려고 하는데, 인터넷으로도 신청이 가능한가요?...   \n",
       "4    토지임야대장등본교부 다량신청  5. 여러 필지의 토지임야대장등본을 한 번에 신청하려는데, 신청 수수료는 어떻게 되...   \n",
       "8   공탁신청(공탁물지급청구 포함)  4. 제가 대출금을 연체하여 채권자가 공탁을 요구하고 있습니다. 제가 공탁금을 지급...   \n",
       "9   공탁신청(공탁물지급청구 포함)  5. 공탁금을 지급받으려면 특정한 조건이나 절차가 있는지 알고 싶습니다. 만약 저에...   \n",
       "13         친양자입양취소신고  4. 친양자 입양을 취소할 때, 법원에서 어떤 기준으로 결정을 내리는지 궁금합니다....   \n",
       "\n",
       "                                                   답변  \n",
       "3   토지임야대장등본을 다량으로 신청하시려면, 인터넷으로 신청이 가능합니다. 이 민원은 ...  \n",
       "4   여러 필지의 토지임야대장등본을 한 번에 신청하시려는군요! 이 민원은 \"토지임야대장등...  \n",
       "8   공탁금의 지급과 관련된 절차에 대해 설명드리겠습니다.\\n\\n먼저, 이 사무는 \"공탁...  \n",
       "9   공탁금을 지급받으시려면 다음과 같은 절차와 서류가 필요합니다.\\n\\n먼저, 이 사무...  \n",
       "13  친양자 입양을 취소하는 과정에 대해 궁금하신 점을 설명드리겠습니다.\\n\\n먼저, 이...  "
      ]
     },
     "execution_count": 4,
     "metadata": {},
     "output_type": "execute_result"
    }
   ],
   "source": [
    "# train, test split\n",
    "test_df = query_df[query_df.index % 5 >= 3]\n",
    "print(test_df.shape)\n",
    "test_df.head()"
   ]
  },
  {
   "cell_type": "code",
   "execution_count": 11,
   "id": "f782a728",
   "metadata": {},
   "outputs": [
    {
     "data": {
      "text/plain": [
       "'4. 친양자 입양을 취소할 때, 법원에서 어떤 기준으로 결정을 내리는지 궁금합니다. 이와 관련된 사례나 기준이 있으면 알려주실 수 있나요?'"
      ]
     },
     "execution_count": 11,
     "metadata": {},
     "output_type": "execute_result"
    }
   ],
   "source": [
    "test_df['질문'][13]"
   ]
  },
  {
   "cell_type": "code",
   "execution_count": null,
   "id": "20053cb2",
   "metadata": {},
   "outputs": [
    {
     "name": "stderr",
     "output_type": "stream",
     "text": [
      "You try to use a model that was created with version 4.1.0, however, your version is 3.4.1. This might cause unexpected behavior or errors. In that case, try to update to the latest version.\n",
      "\n",
      "\n",
      "\n"
     ]
    },
    {
     "data": {
      "application/vnd.jupyter.widget-view+json": {
       "model_id": "54c3ce77775343628cd5636cce38ea2a",
       "version_major": 2,
       "version_minor": 0
      },
      "text/plain": [
       "Batches:   0%|          | 0/88 [00:00<?, ?it/s]"
      ]
     },
     "metadata": {},
     "output_type": "display_data"
    }
   ],
   "source": [
    "model = SentenceTransformer(\"MNRLoss_epoch30\")\n",
    "embeddings = model.encode(documents, show_progress_bar=True)\n",
    "\n",
    "# FAISS 저장\n",
    "index = faiss.IndexFlatL2(embeddings.shape[1])\n",
    "index.add(embeddings)\n",
    "\n",
    "# 인덱스와 메타데이터 저장\n",
    "faiss.write_index(index, \"epoch30_rag_index.faiss\")\n",
    "with open(\"epoch30_rag_metadata.pkl\", \"wb\") as f:\n",
    "    pickle.dump((documents, metadatas), f)"
   ]
  },
  {
   "cell_type": "code",
   "execution_count": 6,
   "id": "abd5502b",
   "metadata": {},
   "outputs": [],
   "source": [
    "# 검색함수 생성성\n",
    "def search_similar_documents(query, top_k=3):\n",
    "    query_embedding = model.encode([query])\n",
    "    D, I = index.search(query_embedding, top_k)\n",
    "    return I"
   ]
  },
  {
   "cell_type": "code",
   "execution_count": 7,
   "id": "10dcbee0",
   "metadata": {},
   "outputs": [
    {
     "name": "stdout",
     "output_type": "stream",
     "text": [
      "Accuracy:  0.9360714285714286\n"
     ]
    }
   ],
   "source": [
    "accuracy = 0\n",
    "error = []\n",
    "for idx, row in test_df.iterrows(): # query(14000행) 중 test_df 5600개개\n",
    "    chunks_idx = search_similar_documents(row['질문']) # df에서 질문을 뽑은 행\n",
    "    if idx//5  in chunks_idx:\n",
    "        accuracy += 1\n",
    "    else:\n",
    "        error.append(idx)\n",
    "print(\"Accuracy: \", accuracy/5600)"
   ]
  },
  {
   "cell_type": "code",
   "execution_count": null,
   "id": "769497a4",
   "metadata": {},
   "outputs": [
    {
     "name": "stdout",
     "output_type": "stream",
     "text": [
      "질문:\n",
      "4. 천연기념물로 지정된 식물을 가정에서 기르고 싶은데, 이를 반입하기 위한 신고 절차가 어떻게 되는지 알 수 있을까요?\n",
      " 실제 사무명:  천연기념물 동물·식물·광물의 반입 신고\n",
      " 아웃풋 사무명: 천연기념물 국내 반입 신고\n",
      "\n",
      "질문:\n",
      "5. 약제비용 지급 신청을 했는데, 지급이 지연되고 있습니다. 이런 경우에는 어디에 문의해야 하며, 얼마나 기다려야 할까요?\n",
      " 실제 사무명:  약제비용 지급 신청(위탁병원 감면대상자)\n",
      " 아웃풋 사무명: 산재보험 진료비·약제비청구\n",
      "\n",
      "질문:\n",
      "5. 최근에 승강기 관련 교육을 수료했는데, 이 교육 이수를 경력으로 인정받으려면 어떻게 신고해야 하는지 알고 싶습니다.\n",
      " 실제 사무명:  기술자 경력 변경 신고\n",
      " 아웃풋 사무명: 기술자 경력신고\n",
      "\n",
      "질문:\n",
      "5. 경력 신고 후에 변경 사항이 생기면 어떻게 수정할 수 있나요? 예를 들어 직장 변경이나 자격증 취득 등에서 발생하는 변경 사항은 어떤 절차를 통해 신고해야 하나요?\n",
      " 실제 사무명:  기술자 경력신고\n",
      " 아웃풋 사무명: 건설기술인 경력(변경)신고\n",
      "\n",
      "질문:\n",
      "4. 과징금 분할 납부 신청서를 제출했는데, 제출 후 처리 기간이 얼마나 걸리는지 궁금합니다. 그리고 그 기간 동안 과징금의 납부는 어떻게 되는지도 알고 싶습니다.\n",
      " 실제 사무명:  승강기 안전관리법령 위반에 따른 과징금 분할 납부 신청\n",
      " 아웃풋 사무명: 생활화학제품 및 살생물제 과징금 분할납부 신청\n",
      "\n"
     ]
    }
   ],
   "source": [
    "for i in error[:5]:\n",
    "    predict_idx = search_similar_documents(query_df['질문'][i])[0][0]\n",
    "    print(f\"질문:\\n{query_df['질문'][i]}\\n 실제 사무명:  {df['사무명'][i//5]}\\n 아웃풋 사무명: {df['사무명'][predict_idx]}\\n\")"
   ]
  }
 ],
 "metadata": {
  "kernelspec": {
   "display_name": "base",
   "language": "python",
   "name": "python3"
  },
  "language_info": {
   "codemirror_mode": {
    "name": "ipython",
    "version": 3
   },
   "file_extension": ".py",
   "mimetype": "text/x-python",
   "name": "python",
   "nbconvert_exporter": "python",
   "pygments_lexer": "ipython3",
   "version": "3.12.7"
  }
 },
 "nbformat": 4,
 "nbformat_minor": 5
}
